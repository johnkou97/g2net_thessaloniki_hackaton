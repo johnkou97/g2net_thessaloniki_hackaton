{
 "cells": [
  {
   "cell_type": "code",
   "execution_count": 1,
   "id": "0318e086",
   "metadata": {},
   "outputs": [
    {
     "name": "stderr",
     "output_type": "stream",
     "text": [
      "2023-06-15 16:52:46.590445: I tensorflow/tsl/cuda/cudart_stub.cc:28] Could not find cuda drivers on your machine, GPU will not be used.\n",
      "2023-06-15 16:52:46.631233: I tensorflow/tsl/cuda/cudart_stub.cc:28] Could not find cuda drivers on your machine, GPU will not be used.\n",
      "2023-06-15 16:52:46.631952: I tensorflow/core/platform/cpu_feature_guard.cc:182] This TensorFlow binary is optimized to use available CPU instructions in performance-critical operations.\n",
      "To enable the following instructions: AVX2 FMA, in other operations, rebuild TensorFlow with the appropriate compiler flags.\n",
      "2023-06-15 16:52:50.057037: W tensorflow/compiler/tf2tensorrt/utils/py_utils.cc:38] TF-TRT Warning: Could not find TensorRT\n"
     ]
    }
   ],
   "source": [
    "import numpy as np\n",
    "import matplotlib.pyplot as plt\n",
    "import tensorflow as tf\n",
    "from tensorflow.keras import layers\n",
    "from tensorflow.keras.optimizers import Adam\n",
    "from tensorflow.keras.callbacks import EarlyStopping, ReduceLROnPlateau"
   ]
  },
  {
   "cell_type": "code",
   "execution_count": 2,
   "id": "3561eda4",
   "metadata": {},
   "outputs": [],
   "source": [
    "def npz_to_tensor(loc:str):\n",
    "    data = np.load(loc)\n",
    "    \n",
    "    array1 = data['foreground']\n",
    "    tensor1 = tf.convert_to_tensor(array1)\n",
    "    \n",
    "    if 'label' in data:\n",
    "        array2 = data['label']\n",
    "        tensor2 = tf.convert_to_tensor(array2,dtype=tf.int32)\n",
    "        return tensor1, tensor2\n",
    "    \n",
    "    return tensor1\n"
   ]
  },
  {
   "cell_type": "code",
   "execution_count": 3,
   "id": "dd43907e",
   "metadata": {},
   "outputs": [],
   "source": [
    "X_train, Y_train = npz_to_tensor('data/classification_training_data.npz')\n",
    "X_val, Y_val = npz_to_tensor('data/classification_validation_data.npz')\n",
    "X_test = npz_to_tensor('data/classification_test_data.npz')"
   ]
  },
  {
   "cell_type": "code",
   "execution_count": 10,
   "id": "3ef6278d",
   "metadata": {},
   "outputs": [
    {
     "name": "stdout",
     "output_type": "stream",
     "text": [
      "Model: \"sequential_4\"\n",
      "_________________________________________________________________\n",
      " Layer (type)                Output Shape              Param #   \n",
      "=================================================================\n",
      " conv1d_3 (Conv1D)           (None, 2046, 32)          128       \n",
      "                                                                 \n",
      " max_pooling1d_3 (MaxPooling  (None, 1023, 32)         0         \n",
      " 1D)                                                             \n",
      "                                                                 \n",
      " flatten_3 (Flatten)         (None, 32736)             0         \n",
      "                                                                 \n",
      " dense_9 (Dense)             (None, 128)               4190336   \n",
      "                                                                 \n",
      " dropout_6 (Dropout)         (None, 128)               0         \n",
      "                                                                 \n",
      " dense_10 (Dense)            (None, 64)                8256      \n",
      "                                                                 \n",
      " dropout_7 (Dropout)         (None, 64)                0         \n",
      "                                                                 \n",
      " dense_11 (Dense)            (None, 3)                 195       \n",
      "                                                                 \n",
      "=================================================================\n",
      "Total params: 4,198,915\n",
      "Trainable params: 4,198,915\n",
      "Non-trainable params: 0\n",
      "_________________________________________________________________\n"
     ]
    }
   ],
   "source": [
    "# Define the model architecture\n",
    "model = tf.keras.Sequential()\n",
    "model.add(layers.Conv1D(32, kernel_size=3, activation='relu', input_shape=(2048, 1)))\n",
    "model.add(layers.MaxPooling1D(pool_size=2))\n",
    "model.add(layers.Flatten())\n",
    "model.add(layers.Dense(128, activation='relu'))\n",
    "model.add(layers.Dropout(0.5))\n",
    "model.add(layers.Dense(64, activation='relu'))\n",
    "model.add(layers.Dropout(0.5))\n",
    "model.add(layers.Dense(3, activation='softmax'))\n",
    "\n",
    "# Compile the model\n",
    "model.compile(optimizer=Adam(learning_rate=0.001), loss='sparse_categorical_crossentropy', metrics=['accuracy'])\n",
    "\n",
    "# Print the model summary\n",
    "model.summary()\n"
   ]
  },
  {
   "cell_type": "code",
   "execution_count": 14,
   "id": "090d98ec",
   "metadata": {},
   "outputs": [
    {
     "name": "stdout",
     "output_type": "stream",
     "text": [
      "Epoch 1/10\n",
      "313/313 [==============================] - 28s 79ms/step - loss: 7.1076 - accuracy: 0.3550 - val_loss: 1.1053 - val_accuracy: 0.3465 - lr: 0.0010\n",
      "Epoch 2/10\n",
      "313/313 [==============================] - 24s 78ms/step - loss: 1.1044 - accuracy: 0.3683 - val_loss: 1.1055 - val_accuracy: 0.3465 - lr: 0.0010\n",
      "Epoch 3/10\n",
      "313/313 [==============================] - 25s 80ms/step - loss: 1.2710 - accuracy: 0.3694 - val_loss: 1.0986 - val_accuracy: 0.3465 - lr: 0.0010\n",
      "Epoch 4/10\n",
      "313/313 [==============================] - 24s 76ms/step - loss: 1.1030 - accuracy: 0.3685 - val_loss: 1.0985 - val_accuracy: 0.3465 - lr: 0.0010\n",
      "Epoch 5/10\n",
      "313/313 [==============================] - 24s 78ms/step - loss: 1.0955 - accuracy: 0.3688 - val_loss: 1.0984 - val_accuracy: 0.3465 - lr: 0.0010\n",
      "Epoch 6/10\n",
      "313/313 [==============================] - 24s 78ms/step - loss: 1.0956 - accuracy: 0.3686 - val_loss: 1.0982 - val_accuracy: 0.3465 - lr: 0.0010\n",
      "Epoch 7/10\n",
      "313/313 [==============================] - 25s 80ms/step - loss: 1.0954 - accuracy: 0.3687 - val_loss: 1.0985 - val_accuracy: 0.3465 - lr: 0.0010\n",
      "Epoch 8/10\n",
      "313/313 [==============================] - ETA: 0s - loss: 1.0954 - accuracy: 0.3688\n",
      "Epoch 8: ReduceLROnPlateau reducing learning rate to 0.00010000000474974513.\n",
      "313/313 [==============================] - 22s 71ms/step - loss: 1.0954 - accuracy: 0.3688 - val_loss: 1.0986 - val_accuracy: 0.3465 - lr: 0.0010\n",
      "Epoch 9/10\n",
      "313/313 [==============================] - 22s 69ms/step - loss: 1.0954 - accuracy: 0.3687 - val_loss: 1.0986 - val_accuracy: 0.3465 - lr: 1.0000e-04\n",
      "Epoch 10/10\n",
      "313/313 [==============================] - ETA: 0s - loss: 1.0960 - accuracy: 0.3686\n",
      "Epoch 10: ReduceLROnPlateau reducing learning rate to 1.0000000474974514e-05.\n",
      "313/313 [==============================] - 23s 74ms/step - loss: 1.0960 - accuracy: 0.3686 - val_loss: 1.0985 - val_accuracy: 0.3465 - lr: 1.0000e-04\n"
     ]
    },
    {
     "data": {
      "text/plain": [
       "<keras.callbacks.History at 0x7f42fdc957c0>"
      ]
     },
     "execution_count": 14,
     "metadata": {},
     "output_type": "execute_result"
    }
   ],
   "source": [
    "model.fit(x=X_train,\n",
    "              y=Y_train,\n",
    "              epochs=10,\n",
    "              verbose=1,\n",
    "              batch_size=32,\n",
    "              validation_data=(X_val, Y_val),\n",
    "              callbacks=[\n",
    "                  EarlyStopping(monitor='val_loss', patience=5),\n",
    "                  ReduceLROnPlateau(verbose=1, patience=2, monitor='val_loss')\n",
    "              ])"
   ]
  },
  {
   "cell_type": "code",
   "execution_count": null,
   "id": "331f2b6a",
   "metadata": {},
   "outputs": [],
   "source": []
  }
 ],
 "metadata": {
  "kernelspec": {
   "display_name": "Python 3 (ipykernel)",
   "language": "python",
   "name": "python3"
  },
  "language_info": {
   "codemirror_mode": {
    "name": "ipython",
    "version": 3
   },
   "file_extension": ".py",
   "mimetype": "text/x-python",
   "name": "python",
   "nbconvert_exporter": "python",
   "pygments_lexer": "ipython3",
   "version": "3.9.16"
  }
 },
 "nbformat": 4,
 "nbformat_minor": 5
}
